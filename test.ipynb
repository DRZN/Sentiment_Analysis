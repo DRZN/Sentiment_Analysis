{
 "cells": [
  {
   "cell_type": "code",
   "execution_count": 137,
   "metadata": {
    "collapsed": true
   },
   "outputs": [],
   "source": [
    "from sklearn.linear_model import Ridge\n",
    "from sklearn import linear_model\n",
    "from sklearn.tree import DecisionTreeRegressor\n",
    "from sklearn.model_selection import GridSearchCV\n",
    "from sklearn.linear_model import ElasticNet\n",
    "from sklearn.neural_network import MLPRegressor\n",
    "import scipy\n",
    "import numpy as np\n",
    "\n",
    "def train(train_x,train_y,test_x):\n",
    "    clf=DecisionTreeRegressor(max_depth=10)\n",
    "    #clf = ElasticNet(alpha=1.0)\n",
    "    #clf=Ridge()\n",
    "    clf.fit(train_x, train_y)\n",
    "    return clf.predict(test_x)\n",
    "\n",
    "def mpl(train_x,train_y,test_x):\n",
    "    clf = MLPRegressor(hidden_layer_sizes=(300,300,300,300,300),alpha=0.01)\n",
    "    clf.fit(train_x, train_y) \n",
    "    return clf.predict(test_x)\n",
    "\n",
    "def cal_mae(y_hat,y):\n",
    "    return np.mean(abs(y_hat-y))\n"
   ]
  },
  {
   "cell_type": "code",
   "execution_count": 133,
   "metadata": {
    "collapsed": true
   },
   "outputs": [],
   "source": [
    "f=open('train_y_to.txt', 'r')\n",
    "train_y_to= pickle.load(f)\n",
    "\n",
    "f=open('train_y_ps.txt', 'r')\n",
    "train_y_ps= pickle.load(f)\n",
    "\n",
    "f=open('test_y_to.txt', 'r')\n",
    "test_y_to= pickle.load(f)\n",
    "\n",
    "f=open('test_y_ps.txt', 'r')\n",
    "test_y_ps= pickle.load(f)"
   ]
  },
  {
   "cell_type": "markdown",
   "metadata": {},
   "source": [
    "## Polarity"
   ]
  },
  {
   "cell_type": "code",
   "execution_count": 135,
   "metadata": {
    "collapsed": true
   },
   "outputs": [],
   "source": [
    "f=open('train_polarity.txt', 'r')\n",
    "train_x= pickle.load(f)\n",
    "\n",
    "f=open('test_polarity.txt', 'r')\n",
    "test_x= pickle.load(f)"
   ]
  },
  {
   "cell_type": "code",
   "execution_count": 140,
   "metadata": {},
   "outputs": [],
   "source": [
    "y_hat=mpl(train_x,train_y_to,test_x)"
   ]
  },
  {
   "cell_type": "code",
   "execution_count": 141,
   "metadata": {},
   "outputs": [
    {
     "name": "stdout",
     "output_type": "stream",
     "text": [
      "The mean absolute error for dev set is  11676713.488\n"
     ]
    }
   ],
   "source": [
    "mae= cal_mae(test_y_to,y_hat)\n",
    "print \"The mean absolute error for dev set is \", mae"
   ]
  },
  {
   "cell_type": "markdown",
   "metadata": {},
   "source": [
    "## POS/NEG"
   ]
  },
  {
   "cell_type": "code",
   "execution_count": 142,
   "metadata": {
    "collapsed": true
   },
   "outputs": [],
   "source": [
    "f=open('train_posneg_feat.txt', 'r')\n",
    "train_x= pickle.load(f)\n",
    "\n",
    "f=open('test_posneg_feat.txt', 'r')\n",
    "test_X= pickle.load(f)"
   ]
  },
  {
   "cell_type": "code",
   "execution_count": 117,
   "metadata": {
    "collapsed": true
   },
   "outputs": [],
   "source": [
    "y_hat=mpl(train_x,train_y,test_x)"
   ]
  },
  {
   "cell_type": "code",
   "execution_count": 118,
   "metadata": {},
   "outputs": [
    {
     "name": "stdout",
     "output_type": "stream",
     "text": [
      "The mean absolute error for dev set is  6997.1130805\n"
     ]
    }
   ],
   "source": [
    "mae= cal_mae(test_y_ps,y_hat)\n",
    "print \"The mean absolute error for dev set is \", mae"
   ]
  }
 ],
 "metadata": {
  "kernelspec": {
   "display_name": "Python 2",
   "language": "python",
   "name": "python2"
  },
  "language_info": {
   "codemirror_mode": {
    "name": "ipython",
    "version": 2
   },
   "file_extension": ".py",
   "mimetype": "text/x-python",
   "name": "python",
   "nbconvert_exporter": "python",
   "pygments_lexer": "ipython2",
   "version": "2.7.13"
  }
 },
 "nbformat": 4,
 "nbformat_minor": 2
}
