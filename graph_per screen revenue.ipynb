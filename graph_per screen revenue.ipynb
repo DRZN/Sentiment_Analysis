{
 "cells": [
  {
   "cell_type": "code",
   "execution_count": 214,
   "metadata": {},
   "outputs": [
    {
     "name": "stdout",
     "output_type": "stream",
     "text": [
      "showing info https://raw.githubusercontent.com/nltk/nltk_data/gh-pages/index.xml\n"
     ]
    },
    {
     "data": {
      "text/plain": [
       "True"
      ]
     },
     "execution_count": 214,
     "metadata": {},
     "output_type": "execute_result"
    }
   ],
   "source": [
    "\n",
    "nltk.download()"
   ]
  },
  {
   "cell_type": "code",
   "execution_count": 3,
   "metadata": {
    "collapsed": true
   },
   "outputs": [],
   "source": [
    "import numpy as np"
   ]
  },
  {
   "cell_type": "code",
   "execution_count": 4,
   "metadata": {
    "collapsed": true
   },
   "outputs": [],
   "source": [
    "# Function that returns list of bow for all movies in a given set(train/dev/test) of the given file root\n",
    "\n",
    "from collections import defaultdict\n",
    "\n",
    "def bow_movie(root,start,end):\n",
    "    bow_per_movie = [] # list of dict where each element of bow_per_movie is bow for that movie\n",
    "    for i in range(start,end):\n",
    "        bow = defaultdict(float)\n",
    "        string = \"\"\n",
    "        for j in range(1,len(root[i])):\n",
    "            string += root[i][j].text\n",
    "\n",
    "        tokens =string.split()\n",
    "        l_tokens = map(lambda t: t.lower(), tokens)\n",
    "\n",
    "        for token in l_tokens:\n",
    "            bow[token] += 1.0\n",
    "        bow_per_movie.append(bow)\n",
    "    return bow_per_movie\n"
   ]
  },
  {
   "cell_type": "code",
   "execution_count": 5,
   "metadata": {
    "collapsed": true
   },
   "outputs": [],
   "source": [
    "# Function that returns vocab for all movies in the training set of given file root\n",
    "def vocab(bow_per_movie):\n",
    "    vocab = defaultdict(float)\n",
    "    \n",
    "    stop_words=[\"a\",\"an\", \"and\",\"are\",\"as\",\"at\",\"be\",\"by\",\"for\",\"from\",\"has\",\"he\", \"in\",\"is\",\"it\",\"its\",\"of\",\"on\",\"that\",\"the\",\"to\",\"was\",\"were\",\"will\",\"with\"]\n",
    "    \n",
    "    for bow in bow_per_movie:\n",
    "        for key,value in bow.iteritems():\n",
    "            vocab[key] += value\n",
    "            \n",
    "    ## removing stop words\n",
    "    for key,value in vocab.items():\n",
    "        if key in stop_words:\n",
    "            vocab.pop(key)\n",
    "            \n",
    "    ## removing infrequent words with frequency less than 5\n",
    "    for key,value in vocab.items():\n",
    "        if value<5:\n",
    "            vocab.pop(key)\n",
    "    \n",
    "    return vocab"
   ]
  },
  {
   "cell_type": "code",
   "execution_count": 9,
   "metadata": {
    "collapsed": true
   },
   "outputs": [],
   "source": [
    "#9999999999999999999999999999999999999999999999999999999999999999999999999999999999999999999999999\n",
    "# using nltk tokenizer Function that returns list of bow for all movies in a given set(train/dev/test) of the given file root\n",
    "\n",
    "from collections import defaultdict\n",
    "from nltk.tokenize import WordPunctTokenizer        # splits all punctuations into separate tokens \n",
    "word_punct_tokenizer = WordPunctTokenizer()\n",
    "from nltk.stem import WordNetLemmatizer\n",
    "wnl = WordNetLemmatizer()\n",
    "from nltk import pos_tag\n",
    "\n",
    "\n",
    "\n",
    "def bow_movie_nltk(root,start,end):\n",
    "    bow_per_movie = [] # list of dict where each element of bow_per_movie is bow for that movie\n",
    "    for i in range(start,end):\n",
    "        bow = defaultdict(float)\n",
    "        string = \"\"\n",
    "        for j in range(1,len(root[i])):\n",
    "            string += root[i][j].text\n",
    "\n",
    "        tokens = word_punct_tokenizer.tokenize(string)\n",
    "        l_tokens = map(lambda t: t.lower(), tokens)\n",
    "        \n",
    "        ### Lemmatizing using wordnetlemmatizer\n",
    "        l_tokens = [wnl.lemmatize(i,j[0].lower()) if j[0].lower() in ['a','n','v'] else wnl.lemmatize(i) for i,j in pos_tag(l_tokens)]\n",
    "        ###\n",
    "        \n",
    "        for token in l_tokens:\n",
    "            bow[token] += 1.0\n",
    "        bow_per_movie.append(bow)\n",
    "    return bow_per_movie"
   ]
  },
  {
   "cell_type": "code",
   "execution_count": 7,
   "metadata": {
    "collapsed": true
   },
   "outputs": [],
   "source": [
    "#99999999999999999999999999999999999999999999999999999999999999999999999999999999999999999999999999999999\n",
    "# using nltk stop words, Function that returns vocab for all movies in the training set of given file root\n",
    "\n",
    "from nltk.corpus import stopwords\n",
    "def vocab_nltk(bow_per_movie):\n",
    "    vocab = defaultdict(float)\n",
    "\n",
    "    stop_words=set(stopwords.words('english'))\n",
    "\n",
    "    for bow in bow_per_movie:\n",
    "        for key,value in bow.iteritems():\n",
    "            vocab[key] += value\n",
    "    '''\n",
    "    ## removing stop words\n",
    "    for key,value in vocab.items():\n",
    "        if key in stop_words:\n",
    "            vocab.pop(key)\n",
    "    \n",
    "    ## removing infrequent words with frequency less than 5\n",
    "    for key,value in vocab.items():\n",
    "        if value<5:\n",
    "            vocab.pop(key)\n",
    "    '''\n",
    "    return vocab"
   ]
  },
  {
   "cell_type": "code",
   "execution_count": 18,
   "metadata": {
    "collapsed": true
   },
   "outputs": [],
   "source": [
    "bow_per_movie_train_ps = bow_movie_nltk(root_traindev_ps,0,1147)\n"
   ]
  },
  {
   "cell_type": "code",
   "execution_count": null,
   "metadata": {
    "collapsed": true
   },
   "outputs": [],
   "source": [
    "bow_per_movie_dev_ps = bow_movie_nltk(root_traindev_ps,1147,1464)"
   ]
  },
  {
   "cell_type": "code",
   "execution_count": 434,
   "metadata": {
    "collapsed": true
   },
   "outputs": [],
   "source": [
    "vocab_ps=vocab_nltk(bow_per_movie_train_ps)\n",
    "fvec_train_ps = fvec(bow_per_movie_train_ps,vocab_ps)\n",
    "fvec_dev_ps = fvec(bow_per_movie_dev_ps,vocab_ps)"
   ]
  },
  {
   "cell_type": "code",
   "execution_count": 435,
   "metadata": {},
   "outputs": [
    {
     "name": "stdout",
     "output_type": "stream",
     "text": [
      "24861\n",
      "24861\n"
     ]
    }
   ],
   "source": [
    "print len(fvec_train_ps[0])\n",
    "print len(fvec_dev_ps[0])"
   ]
  },
  {
   "cell_type": "code",
   "execution_count": 336,
   "metadata": {
    "collapsed": true
   },
   "outputs": [],
   "source": [
    "import pickle\n",
    "\n",
    "f = open('fvec_train_ps_nf.txt', 'w')\n",
    "pickle.dump(fvec_train_ps, f)\n",
    "f.close()\n"
   ]
  },
  {
   "cell_type": "code",
   "execution_count": 23,
   "metadata": {
    "collapsed": true
   },
   "outputs": [],
   "source": [
    "# Function that returns feature vector for all movies in the given set(train/dev/test) of given file root\n",
    "def fvec(bow_per_movie,vocab):\n",
    "    fvec_per_movie = [] # list of lists where each element of fvec_per_movie is a feature vector for that movie\n",
    "\n",
    "    for bow in bow_per_movie:\n",
    "        fvec = []\n",
    "        for key,value in vocab.iteritems():\n",
    "            if key in bow:\n",
    "                fvec.append(bow[key])\n",
    "            else:\n",
    "                fvec.append(0)\n",
    "\n",
    "        fvec_per_movie.append(fvec)\n",
    "    return fvec_per_movie"
   ]
  },
  {
   "cell_type": "code",
   "execution_count": 24,
   "metadata": {
    "collapsed": true
   },
   "outputs": [],
   "source": [
    "# Function that returns a list of target variables i.e. revenue for all movies in the given set(train/dev/test) of given file root\n",
    "def true_rev(start,end,root):\n",
    "    rev = []\n",
    "    for i in range(start,end):\n",
    "        rev.append(root[i][0].attrib['yvalue'])\n",
    "    rev=np.array(rev).astype(np.float)\n",
    "    return rev"
   ]
  },
  {
   "cell_type": "markdown",
   "metadata": {},
   "source": [
    "# Predicting revenue in training set"
   ]
  },
  {
   "cell_type": "code",
   "execution_count": 8,
   "metadata": {
    "collapsed": true
   },
   "outputs": [],
   "source": [
    "from sklearn.linear_model import Ridge\n",
    "from sklearn import linear_model\n",
    "from sklearn.tree import DecisionTreeRegressor\n",
    "from sklearn.model_selection import GridSearchCV\n",
    "import scipy\n",
    "import numpy as np\n",
    "\n",
    "def gsv(train_x,train_y):\n",
    "    parameters = {'max_depth':[5, 100]}\n",
    "    clf = GridSearchCV(DecisionTreeRegressor(), parameters)\n",
    "    clf.fit(train_x, train_y)\n",
    "    return clf\n",
    "\n",
    "def train(train_x,train_y):\n",
    "    clf = Ridge(alpha=0.01)\n",
    "    #clf=linear_model.Lasso(alpha=0.01)\n",
    "    #clf=DecisionTreeRegressor(max_depth=10)\n",
    "    clf.fit(train_x, train_y)\n",
    "    return clf\n",
    "\n",
    "def predict(clf, test_x): \n",
    "    return clf.predict(test_x)\n",
    "\n",
    "def cal_mae(y_hat,y):\n",
    "    return np.mean(abs(y_hat-y))\n",
    "\n"
   ]
  },
  {
   "cell_type": "code",
   "execution_count": 308,
   "metadata": {},
   "outputs": [
    {
     "name": "stdout",
     "output_type": "stream",
     "text": [
      "[1 2]\n",
      "[1 2 3 4]\n"
     ]
    }
   ],
   "source": [
    "h = np.array([1,2])\n",
    "print h\n",
    "b = np.append(h,[[3,4]])\n",
    "print b"
   ]
  },
  {
   "cell_type": "code",
   "execution_count": 420,
   "metadata": {},
   "outputs": [
    {
     "name": "stdout",
     "output_type": "stream",
     "text": [
      "GridSearchCV(cv=None, error_score='raise',\n",
      "       estimator=DecisionTreeRegressor(criterion='mse', max_depth=None, max_features=None,\n",
      "           max_leaf_nodes=None, min_impurity_split=1e-07,\n",
      "           min_samples_leaf=1, min_samples_split=2,\n",
      "           min_weight_fraction_leaf=0.0, presort=False, random_state=None,\n",
      "           splitter='best'),\n",
      "       fit_params={}, iid=True, n_jobs=1,\n",
      "       param_grid={'max_depth': [5, 100]}, pre_dispatch='2*n_jobs',\n",
      "       refit=True, return_train_score=True, scoring=None, verbose=0)\n"
     ]
    }
   ],
   "source": [
    "r = gsv(fvec_train_ps,true_rev_train_ps)\n",
    "print r"
   ]
  },
  {
   "cell_type": "code",
   "execution_count": 15,
   "metadata": {
    "collapsed": true
   },
   "outputs": [],
   "source": [
    "import xml.etree.ElementTree as ET\n",
    "tree = ET.parse('dataset\\\\movies-data-v1.0\\\\movies-data-v1.0\\\\perscreen-7domains-train-dev.tl.xml')\n",
    "root_traindev_ps = tree.getroot()"
   ]
  },
  {
   "cell_type": "code",
   "execution_count": null,
   "metadata": {
    "collapsed": true
   },
   "outputs": [],
   "source": [
    "bow_per_movie_train_ps = bow_movie_nltk(root_traindev_ps,0,1147)\n"
   ]
  },
  {
   "cell_type": "code",
   "execution_count": 51,
   "metadata": {
    "collapsed": true
   },
   "outputs": [],
   "source": [
    "true_rev_train_ps = true_rev(0,1147,root_traindev_ps)"
   ]
  },
  {
   "cell_type": "code",
   "execution_count": 40,
   "metadata": {
    "collapsed": true
   },
   "outputs": [],
   "source": [
    "# only when changing vocab \n",
    "#####################################################################################3\n",
    "vocab_ps=vocab_nltk(bow_per_movie_train_ps)\n"
   ]
  },
  {
   "cell_type": "code",
   "execution_count": null,
   "metadata": {
    "collapsed": true
   },
   "outputs": [],
   "source": [
    "fvec_train_ps = fvec(bow_per_movie_train_ps,vocab_ps)"
   ]
  },
  {
   "cell_type": "code",
   "execution_count": 41,
   "metadata": {},
   "outputs": [
    {
     "data": {
      "text/plain": [
       "56606"
      ]
     },
     "execution_count": 41,
     "metadata": {},
     "output_type": "execute_result"
    }
   ],
   "source": [
    "len(vocab_ps)"
   ]
  },
  {
   "cell_type": "code",
   "execution_count": 36,
   "metadata": {},
   "outputs": [
    {
     "data": {
      "text/plain": [
       "56468"
      ]
     },
     "execution_count": 36,
     "metadata": {},
     "output_type": "execute_result"
    }
   ],
   "source": [
    "len(vocab_ps)"
   ]
  },
  {
   "cell_type": "markdown",
   "metadata": {},
   "source": [
    "# Predicting revenue in development set"
   ]
  },
  {
   "cell_type": "code",
   "execution_count": null,
   "metadata": {
    "collapsed": true
   },
   "outputs": [],
   "source": [
    "f= open('C:\\Users\\Hope\\NLP 585\\project\\NLP_fvec\\per screen\\\\fvec_train_ps_nfs.txt', 'r')\n",
    "x= pickle.load(f)\n",
    "g= open('C:\\Users\\Hope\\NLP 585\\project\\NLP_fvec\\per screen\\\\fvec_dev_ps_nfs.txt', 'r')\n",
    "y= pickle.load(g)\n",
    "fvec_train_ps_nfs = x\n",
    "fvec_dev_ps_nfs = y\n"
   ]
  },
  {
   "cell_type": "code",
   "execution_count": 455,
   "metadata": {
    "collapsed": true
   },
   "outputs": [],
   "source": [
    "trained_classifier_nfsi = train(fvec_train_ps_nfsi,true_rev_train_ps)"
   ]
  },
  {
   "cell_type": "code",
   "execution_count": 456,
   "metadata": {},
   "outputs": [
    {
     "name": "stdout",
     "output_type": "stream",
     "text": [
      "The mean absolute error for dev set is  7067.13994361\n"
     ]
    }
   ],
   "source": [
    "#############################\n",
    "# insert prediction code here\n",
    "pred_rev_dev_ps = predict(trained_classifier,fvec_dev_ps_nfsi) \n",
    "mae_rev_dev_ps= cal_mae(pred_rev_dev_ps,true_rev_dev_ps)\n",
    "############################\n",
    "\n",
    "print \"The mean absolute error for dev set is \", mae_rev_dev_ps"
   ]
  },
  {
   "cell_type": "code",
   "execution_count": 422,
   "metadata": {
    "collapsed": true
   },
   "outputs": [],
   "source": [
    "dtree_r = r #used nltk tokenizer,stop word,lemmatizer list to build bow and vocab with correct f_vec"
   ]
  },
  {
   "cell_type": "markdown",
   "metadata": {},
   "source": [
    "# Storing models, DO NOT Run these cells"
   ]
  },
  {
   "cell_type": "markdown",
   "metadata": {},
   "source": [
    "dtree_6082       # mae=6082 , used nltk tokenizer and stop word list to build bow and vocab\n",
    "dtree_6179       # mae=6179 , used nltk tokenizer and stop word list to build bow and vocab\n",
    "dtree_6099       # mae=6099 , used nltk tokenizer,stop word,lemmatizer list to build bow and vocab\n",
    "dtree_6030       # mae=6030 , used nltk tokenizer,stop word,lemmatizer list to build bow and vocab\n",
    "dtree_6028       # mae=6028 , used nltk tokenizer,stop word,lemmatizer list to build bow and vocab\n",
    "dtree_r          # mae=6074 , used nltk tokenizer,stop word,lemmatizer list to build bow and vocab and grid search cv\n",
    "\n",
    "dtree_6106       #used nltk tokenizer,stop word,lemmatizer list to build bow and vocab with correct f_vec\n",
    "dtree_6037       #used nltk tokenizer,stop word,lemmatizer list to build bow and vocab with correct f_vec"
   ]
  },
  {
   "cell_type": "code",
   "execution_count": null,
   "metadata": {
    "collapsed": true
   },
   "outputs": [],
   "source": []
  },
  {
   "cell_type": "code",
   "execution_count": 197,
   "metadata": {
    "collapsed": true
   },
   "outputs": [],
   "source": [
    "dtree_6179 = trained_classifier       "
   ]
  },
  {
   "cell_type": "markdown",
   "metadata": {},
   "source": [
    "# Predicting revenue in test set"
   ]
  },
  {
   "cell_type": "code",
   "execution_count": 1,
   "metadata": {
    "collapsed": true
   },
   "outputs": [],
   "source": [
    "import xml.etree.ElementTree as ET\n",
    "tree = ET.parse('dataset\\\\movies-data-v1.0\\\\movies-data-v1.0\\\\perscreen-7domains-train-test.tl.xml')\n",
    "root_traintest_ps = tree.getroot()"
   ]
  },
  {
   "cell_type": "code",
   "execution_count": 2,
   "metadata": {},
   "outputs": [
    {
     "ename": "NameError",
     "evalue": "name 'bow_movie_nltk' is not defined",
     "output_type": "error",
     "traceback": [
      "\u001b[1;31m\u001b[0m",
      "\u001b[1;31mNameError\u001b[0mTraceback (most recent call last)",
      "\u001b[1;32m<ipython-input-2-477e3e9cf34e>\u001b[0m in \u001b[0;36m<module>\u001b[1;34m()\u001b[0m\n\u001b[1;32m----> 1\u001b[1;33m \u001b[0mbow_per_movie_test_ps\u001b[0m \u001b[1;33m=\u001b[0m \u001b[0mbow_movie_nltk\u001b[0m\u001b[1;33m(\u001b[0m\u001b[0mroot_traintest_ps\u001b[0m\u001b[1;33m,\u001b[0m\u001b[1;36m1147\u001b[0m\u001b[1;33m,\u001b[0m\u001b[1;36m1401\u001b[0m\u001b[1;33m)\u001b[0m\u001b[1;33m\u001b[0m\u001b[0m\n\u001b[0m\u001b[0;32m      2\u001b[0m \u001b[1;33m\u001b[0m\u001b[0m\n\u001b[0;32m      3\u001b[0m \u001b[1;31m# insert prediction code here\u001b[0m\u001b[1;33m\u001b[0m\u001b[1;33m\u001b[0m\u001b[0m\n\u001b[0;32m      4\u001b[0m \u001b[1;31m# pred_rev_test_ps =\u001b[0m\u001b[1;33m\u001b[0m\u001b[1;33m\u001b[0m\u001b[0m\n\u001b[0;32m      5\u001b[0m \u001b[1;31m#########################\u001b[0m\u001b[1;33m\u001b[0m\u001b[1;33m\u001b[0m\u001b[0m\n",
      "\u001b[1;31mNameError\u001b[0m: name 'bow_movie_nltk' is not defined"
     ]
    }
   ],
   "source": [
    "bow_per_movie_test_ps = bow_movie_nltk(root_traintest_ps,1147,1401)\n",
    "\n",
    "# insert prediction code here\n",
    "# pred_rev_test_ps =\n",
    "#########################"
   ]
  },
  {
   "cell_type": "code",
   "execution_count": 42,
   "metadata": {
    "collapsed": true
   },
   "outputs": [],
   "source": [
    "fvec_test_ps = fvec(bow_per_movie_test_ps,vocab_ps)\n",
    "\n",
    "#########################"
   ]
  },
  {
   "cell_type": "code",
   "execution_count": 49,
   "metadata": {
    "collapsed": true
   },
   "outputs": [],
   "source": [
    "true_rev_test_ps = true_rev(1147,1401,root_traintest_ps)"
   ]
  },
  {
   "cell_type": "code",
   "execution_count": 43,
   "metadata": {
    "collapsed": true
   },
   "outputs": [],
   "source": [
    "import pickle\n",
    "\n",
    "f = open('NLP_fvec\\\\NFSI\\\\fvec_test_ps_nf.txt', 'w')\n",
    "pickle.dump(fvec_test_ps, f)\n",
    "f.close()\n"
   ]
  },
  {
   "cell_type": "code",
   "execution_count": 45,
   "metadata": {
    "collapsed": true
   },
   "outputs": [],
   "source": [
    "f= open('C:\\Users\\Hope\\NLP 585\\project\\NLP_fvec\\NFSI\\\\fvec_train_ps_nfs.txt', 'r')\n",
    "fvec_train_ps_nfs = pickle.load(f)\n",
    "f.close()\n",
    "f= open('C:\\Users\\Hope\\NLP 585\\project\\NLP_fvec\\NFSI\\\\fvec_train_ps_nfsi.txt', 'r')\n",
    "fvec_train_ps_nfsi = pickle.load(f)\n",
    "f.close()\n",
    "f= open('C:\\Users\\Hope\\NLP 585\\project\\NLP_fvec\\NFSI\\\\fvec_train_ps_nf.txt', 'r')\n",
    "fvec_train_ps_nf = pickle.load(f)\n",
    "f.close()"
   ]
  },
  {
   "cell_type": "code",
   "execution_count": 48,
   "metadata": {
    "collapsed": true
   },
   "outputs": [],
   "source": [
    "f= open('C:\\Users\\Hope\\NLP 585\\project\\NLP_fvec\\NFSI\\\\fvec_test_ps_nfs.txt', 'r')\n",
    "fvec_test_ps_nfs = pickle.load(f)\n",
    "f.close()\n",
    "f= open('C:\\Users\\Hope\\NLP 585\\project\\NLP_fvec\\NFSI\\\\fvec_test_ps_nfsi.txt', 'r')\n",
    "fvec_test_ps_nfsi = pickle.load(f)\n",
    "f.close()\n",
    "f= open('C:\\Users\\Hope\\NLP 585\\project\\NLP_fvec\\NFSI\\\\fvec_test_ps_nf.txt', 'r')\n",
    "fvec_test_ps_nf = pickle.load(f)\n",
    "f.close()"
   ]
  },
  {
   "cell_type": "code",
   "execution_count": 47,
   "metadata": {
    "collapsed": true
   },
   "outputs": [],
   "source": [
    "from sklearn.neural_network import MLPRegressor\n",
    "def mpl(train_x,train_y,test_x):\n",
    "    clf = MLPRegressor(hidden_layer_sizes=(100, 100,100,100),alpha=0.1)\n",
    "    clf.fit(train_x, train_y) \n",
    "    return clf.predict(test_x)\n",
    "def cal_mae(y_hat,y):\n",
    "    return np.mean(abs(y_hat-y))"
   ]
  },
  {
   "cell_type": "markdown",
   "metadata": {},
   "source": [
    "#  Neural MAEs for test set for per screen revenue"
   ]
  },
  {
   "cell_type": "code",
   "execution_count": 52,
   "metadata": {},
   "outputs": [
    {
     "name": "stdout",
     "output_type": "stream",
     "text": [
      "The mean absolute error for test set nfsi is  6488.7894407\n"
     ]
    }
   ],
   "source": [
    "y_hat= mpl(fvec_train_ps_nfsi,true_rev_train_ps,fvec_test_ps_nfsi)\n",
    "\n",
    "mae= cal_mae(true_rev_test_ps,y_hat)\n",
    "\n",
    "print \"The mean absolute error for test set nfsi is \", mae"
   ]
  },
  {
   "cell_type": "code",
   "execution_count": 53,
   "metadata": {},
   "outputs": [
    {
     "name": "stdout",
     "output_type": "stream",
     "text": [
      "The mean absolute error for test set nfs is  6454.07767839\n"
     ]
    },
    {
     "name": "stderr",
     "output_type": "stream",
     "text": [
      "C:\\Users\\Hope\\Anaconda2\\lib\\site-packages\\sklearn\\neural_network\\multilayer_perceptron.py:563: ConvergenceWarning: Stochastic Optimizer: Maximum iterations reached and the optimization hasn't converged yet.\n",
      "  % (), ConvergenceWarning)\n"
     ]
    }
   ],
   "source": [
    "y_hat= mpl(fvec_train_ps_nfs,true_rev_train_ps,fvec_test_ps_nfs)\n",
    "\n",
    "mae= cal_mae(true_rev_test_ps,y_hat)\n",
    "\n",
    "print \"The mean absolute error for test set nfs is \", mae"
   ]
  },
  {
   "cell_type": "code",
   "execution_count": 54,
   "metadata": {},
   "outputs": [
    {
     "name": "stdout",
     "output_type": "stream",
     "text": [
      "The mean absolute error for test set nf is  6432.81568768\n"
     ]
    }
   ],
   "source": [
    "y_hat= mpl(fvec_train_ps_nf,true_rev_train_ps,fvec_test_ps_nf)\n",
    "\n",
    "mae= cal_mae(true_rev_test_ps,y_hat)\n",
    "\n",
    "print \"The mean absolute error for test set nf is \", mae"
   ]
  },
  {
   "cell_type": "markdown",
   "metadata": {},
   "source": [
    "# Try any trained classifier here"
   ]
  },
  {
   "cell_type": "code",
   "execution_count": 46,
   "metadata": {},
   "outputs": [
    {
     "ename": "NameError",
     "evalue": "name 'trained_classifier' is not defined",
     "output_type": "error",
     "traceback": [
      "\u001b[1;31m\u001b[0m",
      "\u001b[1;31mNameError\u001b[0mTraceback (most recent call last)",
      "\u001b[1;32m<ipython-input-46-94f881df685c>\u001b[0m in \u001b[0;36m<module>\u001b[1;34m()\u001b[0m\n\u001b[0;32m      1\u001b[0m \u001b[1;31m#############################\u001b[0m\u001b[1;33m\u001b[0m\u001b[1;33m\u001b[0m\u001b[0m\n\u001b[0;32m      2\u001b[0m \u001b[1;31m# insert prediction code here\u001b[0m\u001b[1;33m\u001b[0m\u001b[1;33m\u001b[0m\u001b[0m\n\u001b[1;32m----> 3\u001b[1;33m \u001b[0mpred_rev_test_ps\u001b[0m \u001b[1;33m=\u001b[0m \u001b[0mpredict\u001b[0m\u001b[1;33m(\u001b[0m\u001b[0mtrained_classifier\u001b[0m\u001b[1;33m,\u001b[0m\u001b[0mfvec_test_ps_nfsi\u001b[0m\u001b[1;33m)\u001b[0m\u001b[1;33m\u001b[0m\u001b[0m\n\u001b[0m\u001b[0;32m      4\u001b[0m \u001b[0mmae_rev_dev_ps\u001b[0m\u001b[1;33m=\u001b[0m \u001b[0mcal_mae\u001b[0m\u001b[1;33m(\u001b[0m\u001b[0mpred_rev_dev_ps\u001b[0m\u001b[1;33m,\u001b[0m\u001b[0mtrue_rev_dev_ps\u001b[0m\u001b[1;33m)\u001b[0m\u001b[1;33m\u001b[0m\u001b[0m\n\u001b[0;32m      5\u001b[0m \u001b[1;31m############################\u001b[0m\u001b[1;33m\u001b[0m\u001b[1;33m\u001b[0m\u001b[0m\n",
      "\u001b[1;31mNameError\u001b[0m: name 'trained_classifier' is not defined"
     ]
    }
   ],
   "source": [
    "#############################\n",
    "# insert prediction code here\n",
    "pred_rev_test_ps = predict(trained_classifier,fvec_test_ps_nfsi) \n",
    "mae_rev_dev_ps= cal_mae(pred_rev_dev_ps,true_rev_dev_ps)\n",
    "############################\n",
    "\n",
    "print \"The mean absolute error for test set nfsi is \", mae_rev_dev_ps\n",
    "\n",
    "#############################\n",
    "# insert prediction code here\n",
    "pred_rev_test_ps = predict(trained_classifier,fvec_test_ps_nfs) \n",
    "mae_rev_dev_ps= cal_mae(pred_rev_dev_ps,true_rev_dev_ps)\n",
    "############################\n",
    "\n",
    "print \"The mean absolute error for test set nfs is \", mae_rev_dev_ps\n",
    "\n",
    "#############################\n",
    "# insert prediction code here\n",
    "pred_rev_test_ps = predict(trained_classifier,fvec_test_ps_nf) \n",
    "mae_rev_dev_ps= cal_mae(pred_rev_dev_ps,true_rev_dev_ps)\n",
    "############################\n",
    "\n",
    "print \"The mean absolute error for test set nf is \", mae_rev_dev_ps"
   ]
  },
  {
   "cell_type": "code",
   "execution_count": null,
   "metadata": {
    "collapsed": true
   },
   "outputs": [],
   "source": []
  },
  {
   "cell_type": "markdown",
   "metadata": {},
   "source": [
    "# Histogram showing depiction of training data"
   ]
  },
  {
   "cell_type": "code",
   "execution_count": 9,
   "metadata": {},
   "outputs": [
    {
     "name": "stdout",
     "output_type": "stream",
     "text": [
      "8447.1656012\n",
      "12343.2975493\n"
     ]
    }
   ],
   "source": [
    "mean = np.mean(true_rev_train_ps)\n",
    "std= np.std(true_rev_train_ps)\n",
    "print mean\n",
    "print std\n"
   ]
  },
  {
   "cell_type": "code",
   "execution_count": 24,
   "metadata": {},
   "outputs": [
    {
     "data": {
      "image/png": "[encoded data removed]",
      "text/plain": [
       "<matplotlib.figure.Figure at 0x1abcb748>"
      ]
     },
     "metadata": {},
     "output_type": "display_data"
    }
   ],
   "source": [
    "import matplotlib.pyplot as plt\n",
    "\n",
    "fig = plt.figure(figsize=(10, 6))\n",
    "plt.hist(true_rev_train_ps/10 **3,30)\n",
    "plt.xlabel(\"Per Screen Opening Weekend Revenue (in $ Thousand) \")\n",
    "plt.ylabel(\"Number of movies\")\n",
    "plt.axvline(x=mean/10**3 , c='r' , label ='Mean revenue = $8447')\n",
    "plt.axvline(x=(mean+std)/10**3, c='g', label = '1 Standard Deviation from mean')\n",
    "plt.axvline(x=(mean+2*std)/10**3, c='b', label = '2 Standard Deviations from mean')\n",
    "plt.axvline(x=(mean+3*std)/10**3, c='y', label = '3 Standard Deviations from mean')\n",
    "plt.title('Histogram showing distribution of per screen revenue of Training data')\n",
    "plt.legend()\n",
    "plt.show()"
   ]
  }
 ],
 "metadata": {
  "kernelspec": {
   "display_name": "Python 2",
   "language": "python",
   "name": "python2"
  },
  "language_info": {
   "codemirror_mode": {
    "name": "ipython",
    "version": 2
   },
   "file_extension": ".py",
   "mimetype": "text/x-python",
   "name": "python",
   "nbconvert_exporter": "python",
   "pygments_lexer": "ipython2",
   "version": "2.7.13"
  }
 },
 "nbformat": 4,
 "nbformat_minor": 2
}
