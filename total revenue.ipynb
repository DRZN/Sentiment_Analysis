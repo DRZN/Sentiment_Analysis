{
 "cells": [
  {
   "cell_type": "code",
   "execution_count": 2,
   "metadata": {
    "collapsed": true
   },
   "outputs": [],
   "source": [
    "# Function that returns list of bow for all movies in a given set(train/dev/test) of the given file root\n",
    "\n",
    "from collections import defaultdict\n",
    "\n",
    "def bow_movie(root,start,end):\n",
    "    bow_per_movie = [] # list of dict where each element of bow_per_movie is bow for that movie\n",
    "    for i in range(start,end):\n",
    "        bow = defaultdict(float)\n",
    "        string = \"\"\n",
    "        for j in range(1,len(root[i])):\n",
    "            string += root[i][j].text\n",
    "\n",
    "        tokens =string.split()\n",
    "        l_tokens = map(lambda t: t.lower(), tokens)\n",
    "\n",
    "        for token in l_tokens:\n",
    "            bow[token] += 1.0\n",
    "        bow_per_movie.append(bow)\n",
    "    return bow_per_movie\n"
   ]
  },
  {
   "cell_type": "code",
   "execution_count": 3,
   "metadata": {
    "collapsed": true
   },
   "outputs": [],
   "source": [
    "# Function that returns vocab for all movies in the training set of given file root\n",
    "def vocab(bow_per_movie):\n",
    "    stop_words=[\"a\",\"an\", \"and\",\"are\",\"as\",\"at\",\"be\",\"by\",\"for\",\"from\",\"has\",\"he\", \"in\",\"is\",\"it\",\"its\",\"of\",\"on\",\"that\",\"the\",\"to\",\"was\",\"were\",\"will\",\"with\"]\n",
    "    \n",
    "    # calculating vocab\n",
    "    vocab = defaultdict(float)\n",
    "    for bow in bow_per_movie:\n",
    "        for key,value in bow.iteritems():\n",
    "            vocab[key] += value\n",
    "            \n",
    "    ## removing stop words\n",
    "    for key,value in vocab.items():\n",
    "        if key in stop_words:\n",
    "            vocab.pop(key)\n",
    "    return vocab"
   ]
  },
  {
   "cell_type": "code",
   "execution_count": 16,
   "metadata": {
    "collapsed": true
   },
   "outputs": [],
   "source": [
    "# Function that returns feature vector for all movies in the given set(train/dev/test) of given file root\n",
    "def fvec(bow_per_movie,vocab):\n",
    "    fvec_per_movie = [] # list of lists where each element of fvec_per_movie is a feature vector for that movie\n",
    "\n",
    "    for bow in bow_per_movie:\n",
    "        fvec = []\n",
    "        for key,value in vocab.iteritems():\n",
    "            if key in bow:\n",
    "                fvec.append(bow[key])\n",
    "            else:\n",
    "                fvec.append(0)\n",
    "\n",
    "        fvec_per_movie.append(fvec)\n",
    "    return fvec_per_movie\n"
   ]
  },
  {
   "cell_type": "code",
   "execution_count": 5,
   "metadata": {
    "collapsed": true
   },
   "outputs": [],
   "source": [
    "# Function that returns a list of target variables i.e. revenue for all movies in the given set(train/dev/test) of given file root\n",
    "def true_rev(start,end,root):\n",
    "    rev = []\n",
    "    for i in range(start,end):\n",
    "        rev.append(root[i][0].attrib['yvalue'])\n",
    "    rev=np.array(rev).astype(np.float)\n",
    "    return rev"
   ]
  },
  {
   "cell_type": "markdown",
   "metadata": {},
   "source": [
    "# Predicting revenue in training set"
   ]
  },
  {
   "cell_type": "code",
   "execution_count": 9,
   "metadata": {
    "collapsed": true
   },
   "outputs": [],
   "source": [
    "from sklearn.linear_model import Ridge\n",
    "from sklearn import linear_model\n",
    "from sklearn.tree import DecisionTreeRegressor\n",
    "from sklearn.model_selection import GridSearchCV\n",
    "import scipy\n",
    "import numpy as np\n",
    "\n",
    "def gsv(train_x,train_y):\n",
    "    parameters = {'max_depth':[10, 1000]}\n",
    "    clf = GridSearchCV(DecisionTreeRegressor(), parameters)\n",
    "    clf.fit(train_x, train_y)\n",
    "    return clf\n",
    "\n",
    "def train(train_x,train_y):\n",
    "    clf=DecisionTreeRegressor(max_depth=10)\n",
    "    clf.fit(train_x, train_y)\n",
    "    return clf\n",
    "\n",
    "def predict(clf, test_x): \n",
    "    return clf.predict(test_x)\n",
    "\n",
    "def cal_mae(y_hat,y):\n",
    "    return np.mean(abs(y_hat-y))\n",
    "\n"
   ]
  },
  {
   "cell_type": "code",
   "execution_count": 10,
   "metadata": {
    "collapsed": true
   },
   "outputs": [],
   "source": [
    "import xml.etree.ElementTree as ET\n",
    "tree = ET.parse('dataset\\\\movies-data-v1.0\\\\movies-data-v1.0\\\\7domains-train-dev.tl.xml')\n",
    "root_traindev_to = tree.getroot()"
   ]
  },
  {
   "cell_type": "code",
   "execution_count": 11,
   "metadata": {
    "collapsed": true
   },
   "outputs": [],
   "source": [
    "bow_per_movie_train_to = bow_movie(root_traindev_to,0,1147)\n",
    "vocab_to=vocab(bow_per_movie_train_to)\n",
    "fvec_train_to = fvec(bow_per_movie_train_to,vocab_to)\n",
    "true_rev_train_to = true_rev(0,1147,root_traindev_to)"
   ]
  },
  {
   "cell_type": "code",
   "execution_count": 12,
   "metadata": {
    "collapsed": true
   },
   "outputs": [],
   "source": [
    "tc=train(fvec_train_to,true_rev_train_to)"
   ]
  },
  {
   "cell_type": "markdown",
   "metadata": {},
   "source": [
    "\n",
    "#  Predicting revenue in development set"
   ]
  },
  {
   "cell_type": "code",
   "execution_count": 13,
   "metadata": {
    "collapsed": true
   },
   "outputs": [],
   "source": [
    "bow_per_movie_dev_to = bow_movie(root_traindev_to,1147,1464)\n",
    "fvec_dev_to = fvec(bow_per_movie_dev_to,vocab_to)\n",
    "true_rev_dev_to = true_rev(1147,1464,root_traindev_to)"
   ]
  },
  {
   "cell_type": "code",
   "execution_count": 145,
   "metadata": {},
   "outputs": [
    {
     "name": "stdout",
     "output_type": "stream",
     "text": [
      "{'max_depth': 10}\n"
     ]
    }
   ],
   "source": [
    "print trained_classifier.best_params_"
   ]
  },
  {
   "cell_type": "code",
   "execution_count": 15,
   "metadata": {},
   "outputs": [
    {
     "name": "stdout",
     "output_type": "stream",
     "text": [
      "The mean absolute error for dev set is  8766194.23056\n"
     ]
    }
   ],
   "source": [
    "#############################\n",
    "# insert prediction code here\n",
    "pred_rev_dev_to = predict(tc,fvec_dev_to) \n",
    "mae_rev_dev_to= cal_mae(pred_rev_dev_to,true_rev_dev_to)\n",
    "############################\n",
    "\n",
    "print \"The mean absolute error for dev set is \", mae_rev_dev_to"
   ]
  },
  {
   "cell_type": "code",
   "execution_count": 178,
   "metadata": {
    "collapsed": true
   },
   "outputs": [
    {
     "data": {
      "text/plain": [
       "array([  1.50979809e+06,   3.50400168e+06,   4.70422150e+07,\n",
       "         3.50400168e+06,   3.50400168e+06,   3.50400168e+06,\n",
       "         1.98320799e+05,   3.50400168e+06,   3.50400168e+06,\n",
       "         3.50400168e+06,   3.50400168e+06,   3.50400168e+06,\n",
       "         3.50400168e+06,   8.79947896e+06,   1.98320799e+05,\n",
       "         3.50400168e+06,   3.50400168e+06,   4.88682688e+06,\n",
       "         3.50400168e+06,   3.50400168e+06,   3.50400168e+06,\n",
       "         1.98320799e+05,   3.50400168e+06,   3.50400168e+06,\n",
       "         8.79947896e+06,   1.98320799e+05,   3.50400168e+06,\n",
       "         1.50979809e+06,   3.50400168e+06,   3.50400168e+06,\n",
       "         8.79947896e+06,   1.98320799e+05,   8.79947896e+06,\n",
       "         3.50400168e+06,   1.98320799e+05,   3.50400168e+06,\n",
       "         3.50400168e+06,   3.50400168e+06,   3.95920750e+07,\n",
       "         3.50400168e+06,   3.50400168e+06,   3.50400168e+06,\n",
       "         3.50400168e+06,   3.50400168e+06,   8.79947896e+06,\n",
       "         3.50400168e+06,   3.50400168e+06,   3.50400168e+06,\n",
       "         3.50400168e+06,   1.98320799e+05,   1.98320799e+05,\n",
       "         1.98320799e+05,   8.79947896e+06,   3.50400168e+06,\n",
       "         3.50400168e+06,   1.58020830e+07,   8.79947896e+06,\n",
       "         1.98320799e+05,   3.50400168e+06,   1.58020830e+07,\n",
       "         1.98320799e+05,   3.50400168e+06,   3.50400168e+06,\n",
       "         1.58020830e+07,   4.88682688e+06,   1.98320799e+05,\n",
       "         1.50979809e+06,   1.98320799e+05,   3.50400168e+06,\n",
       "         3.50400168e+06,   3.50400168e+06,   2.83095990e+07,\n",
       "         3.50400168e+06,   3.50400168e+06,   3.50400168e+06,\n",
       "         8.79947896e+06,   1.58020830e+07,   3.50400168e+06,\n",
       "         3.50400168e+06,   1.98320799e+05,   1.02774764e+07,\n",
       "         3.50400168e+06,   8.79947896e+06,   3.50400168e+06,\n",
       "         3.50400168e+06,   3.50400168e+06,   8.79947896e+06,\n",
       "         3.50400168e+06,   1.98320799e+05,   1.98320799e+05,\n",
       "         3.50400168e+06,   3.50400168e+06,   3.50400168e+06,\n",
       "         3.50400168e+06,   1.98320799e+05,   1.98320799e+05,\n",
       "         3.50400168e+06,   1.98320799e+05,   4.70422150e+07,\n",
       "         3.50400168e+06,   3.50400168e+06,   3.50400168e+06,\n",
       "         1.98320799e+05,   8.79947896e+06,   3.95920750e+07,\n",
       "         6.24525475e+06,   1.98320799e+05,   1.02774764e+07,\n",
       "         3.50400168e+06,   3.50400168e+06,   1.98320799e+05,\n",
       "         3.50400168e+06,   8.79947896e+06,   3.50400168e+06,\n",
       "         2.14178150e+07,   8.79947896e+06,   3.50400168e+06,\n",
       "         8.79947896e+06,   3.50400168e+06,   3.50400168e+06,\n",
       "         3.23337655e+07,   1.98320799e+05,   3.50400168e+06,\n",
       "         3.50400168e+06,   3.50400168e+06,   1.58020830e+07,\n",
       "         3.50400168e+06,   3.50400168e+06,   1.58020830e+07,\n",
       "         8.79947896e+06,   8.79947896e+06,   1.98320799e+05,\n",
       "         1.58020830e+07,   3.50400168e+06,   1.98320799e+05,\n",
       "         1.58020830e+07,   3.50400168e+06,   6.24525475e+06,\n",
       "         1.98320799e+05,   1.58020830e+07,   3.50400168e+06,\n",
       "         3.50400168e+06,   3.50400168e+06,   1.27972864e+08,\n",
       "         1.00611320e+07,   3.50400168e+06,   3.50400168e+06,\n",
       "         1.58020830e+07,   3.50400168e+06,   3.50400168e+06,\n",
       "         3.50400168e+06,   4.88682688e+06,   3.50400168e+06,\n",
       "         3.50400168e+06,   3.50400168e+06,   3.50400168e+06,\n",
       "         8.79947896e+06,   3.50400168e+06,   8.79947896e+06,\n",
       "         3.50400168e+06,   8.79947896e+06,   1.98320799e+05,\n",
       "         1.58020830e+07,   3.50400168e+06,   3.50400168e+06,\n",
       "         8.79947896e+06,   3.50400168e+06,   4.88682688e+06,\n",
       "         3.50400168e+06,   3.50400168e+06,   1.98320799e+05,\n",
       "         1.98320799e+05,   1.58020830e+07,   1.98320799e+05,\n",
       "         3.50400168e+06,   3.50400168e+06,   3.50400168e+06,\n",
       "         3.50400168e+06,   3.50400168e+06,   1.98320799e+05,\n",
       "         8.79947896e+06,   1.98320799e+05,   3.50400168e+06,\n",
       "         3.50400168e+06,   3.50400168e+06,   3.50400168e+06,\n",
       "         3.50400168e+06,   1.27972864e+08,   3.50400168e+06,\n",
       "         1.98320799e+05,   3.50400168e+06,   3.50400168e+06,\n",
       "         2.18333120e+07,   3.50400168e+06,   3.50400168e+06,\n",
       "         3.50400168e+06,   3.50400168e+06,   1.98320799e+05,\n",
       "         6.24525475e+06,   3.50400168e+06,   1.50979809e+06,\n",
       "         3.50400168e+06,   3.50400168e+06,   1.98320799e+05,\n",
       "         3.50400168e+06,   3.50400168e+06,   3.50400168e+06,\n",
       "         3.50400168e+06,   1.58020830e+07,   3.50400168e+06,\n",
       "         3.50400168e+06,   3.50400168e+06,   8.79947896e+06,\n",
       "         3.50400168e+06,   3.50400168e+06,   3.50400168e+06,\n",
       "         1.58020830e+07,   4.83981300e+07,   3.50400168e+06,\n",
       "         1.98320799e+05,   3.50400168e+06,   3.50400168e+06,\n",
       "         3.50400168e+06,   3.50400168e+06,   5.26355314e+06,\n",
       "         3.50400168e+06,   3.50400168e+06,   3.50400168e+06,\n",
       "         3.50400168e+06,   1.98320799e+05,   8.79947896e+06,\n",
       "         3.50400168e+06,   1.98320799e+05,   8.79947896e+06,\n",
       "         1.50979809e+06,   1.02774764e+07,   3.50400168e+06,\n",
       "         3.50400168e+06,   1.98320799e+05,   4.88682688e+06,\n",
       "         1.58020830e+07,   4.70422150e+07,   3.50400168e+06,\n",
       "         3.50400168e+06,   1.50979809e+06,   3.50400168e+06,\n",
       "         3.50400168e+06,   3.50400168e+06,   8.79947896e+06,\n",
       "         3.50400168e+06,   3.50400168e+06,   1.98320799e+05,\n",
       "         8.79947896e+06,   3.50400168e+06,   3.50400168e+06,\n",
       "         8.79947896e+06,   1.98320799e+05,   3.50400168e+06,\n",
       "         4.70422150e+07,   3.50400168e+06,   3.50400168e+06,\n",
       "         1.25745690e+07,   3.50400168e+06,   3.95920750e+07,\n",
       "         1.98320799e+05,   1.98320799e+05,   1.50979809e+06,\n",
       "         3.50400168e+06,   3.50400168e+06,   3.50400168e+06,\n",
       "         3.50400168e+06,   1.58020830e+07,   1.50979809e+06,\n",
       "         3.50400168e+06,   8.79947896e+06,   1.98320799e+05,\n",
       "         1.98320799e+05,   8.79947896e+06,   3.50400168e+06,\n",
       "         3.50400168e+06,   3.50400168e+06,   1.98320799e+05,\n",
       "         1.98320799e+05,   3.50400168e+06,   1.98320799e+05,\n",
       "         3.50400168e+06,   3.50400168e+06,   1.98320799e+05,\n",
       "         4.83981300e+07,   1.98320799e+05,   3.50400168e+06,\n",
       "         1.98320799e+05,   3.50400168e+06,   8.79947896e+06,\n",
       "         7.70733880e+07,   6.24525475e+06,   8.79947896e+06,\n",
       "         3.50400168e+06,   1.98320799e+05,   3.95920750e+07,\n",
       "         3.50400168e+06,   4.70422150e+07,   3.50400168e+06,\n",
       "         3.50400168e+06,   4.88682688e+06,   3.50400168e+06,\n",
       "         8.79947896e+06,   1.00561125e+08,   1.98320799e+05,\n",
       "         3.50400168e+06,   8.79947896e+06,   3.50400168e+06,\n",
       "         3.50400168e+06,   1.58020830e+07,   1.58020830e+07,\n",
       "         3.95920750e+07,   8.79947896e+06])"
      ]
     },
     "execution_count": 178,
     "metadata": {},
     "output_type": "execute_result"
    }
   ],
   "source": [
    "pred_rev_dev_to"
   ]
  },
  {
   "cell_type": "code",
   "execution_count": 174,
   "metadata": {},
   "outputs": [
    {
     "data": {
      "text/plain": [
       "(0.32365382499196488, 3.6512491380558547e-09)"
      ]
     },
     "execution_count": 174,
     "metadata": {},
     "output_type": "execute_result"
    }
   ],
   "source": [
    "import scipy\n",
    "scipy.stats.pearsonr(pred_rev_dev_to, true_rev_dev_to)"
   ]
  },
  {
   "cell_type": "code",
   "execution_count": 2,
   "metadata": {
    "collapsed": true
   },
   "outputs": [],
   "source": [
    "import xml.etree.ElementTree as ET\n",
    "import numpy as np\n",
    "def true_rev(start,end,root):\n",
    "    rev = []\n",
    "    for i in range(start,end):\n",
    "        rev.append(root[i][0].attrib['yvalue'])\n",
    "    rev=np.array(rev).astype(np.float)\n",
    "    return rev\n",
    "\n",
    "\n",
    "tree = ET.parse('dataset\\\\movies-data-v1.0\\\\movies-data-v1.0\\\\7domains-train-dev.tl.xml')\n",
    "root_traindev_to = tree.getroot()\n",
    "\n",
    "true_rev_dev_to = true_rev(1147,1464,root_traindev_to)"
   ]
  },
  {
   "cell_type": "code",
   "execution_count": null,
   "metadata": {
    "collapsed": true
   },
   "outputs": [],
   "source": []
  },
  {
   "cell_type": "code",
   "execution_count": null,
   "metadata": {
    "collapsed": true
   },
   "outputs": [],
   "source": [
    "import pickle\n",
    "\n",
    "f = open('dump.txt', 'w')\n",
    "pickle.dump(true_rev_dev_to , f)\n",
    "f.close()\n",
    "\n",
    "f= open('dump.txt', 'r')\n",
    "d= pickle.load(f)"
   ]
  },
  {
   "cell_type": "markdown",
   "metadata": {},
   "source": [
    "# Predicting revenue in test set"
   ]
  },
  {
   "cell_type": "code",
   "execution_count": null,
   "metadata": {
    "collapsed": true
   },
   "outputs": [],
   "source": []
  },
  {
   "cell_type": "code",
   "execution_count": 8,
   "metadata": {
    "collapsed": true
   },
   "outputs": [],
   "source": [
    "import xml.etree.ElementTree as ET\n",
    "tree = ET.parse('dataset\\\\movies-data-v1.0\\\\movies-data-v1.0\\\\perscreen-7domains-train-test.tl.xml')\n",
    "root_traintest_to = tree.getroot()"
   ]
  },
  {
   "cell_type": "code",
   "execution_count": 9,
   "metadata": {
    "collapsed": true
   },
   "outputs": [],
   "source": [
    "bow_per_movie_test_to = bow_movie(root_traintest_to,1147,1401)\n",
    "fvec_test_to = fvec(bow_per_movie_test_to,vocab_to)\n",
    "true_rev_test_to = true_rev(1147,1401,root_traintest_to)\n",
    "#########################\n",
    "# insert prediction code here\n",
    "# pred_rev_test_to =\n",
    "#########################"
   ]
  },
  {
   "cell_type": "code",
   "execution_count": null,
   "metadata": {
    "collapsed": true
   },
   "outputs": [],
   "source": []
  }
 ],
 "metadata": {
  "kernelspec": {
   "display_name": "Python 2",
   "language": "python",
   "name": "python2"
  },
  "language_info": {
   "codemirror_mode": {
    "name": "ipython",
    "version": 2
   },
   "file_extension": ".py",
   "mimetype": "text/x-python",
   "name": "python",
   "nbconvert_exporter": "python",
   "pygments_lexer": "ipython2",
   "version": "2.7.13"
  }
 },
 "nbformat": 4,
 "nbformat_minor": 2
}
