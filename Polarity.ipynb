{
 "cells": [
  {
   "cell_type": "code",
   "execution_count": 1,
   "metadata": {
    "collapsed": true
   },
   "outputs": [],
   "source": [
    "import numpy as np\n",
    "\n",
    "## extracting revenue \n",
    "def true_rev(start,end,root):\n",
    "    rev = []\n",
    "    for i in range(start,end):\n",
    "        rev.append(root[i][0].attrib['yvalue'])\n",
    "    rev=np.array(rev).astype(np.float)\n",
    "    return rev"
   ]
  },
  {
   "cell_type": "code",
   "execution_count": 2,
   "metadata": {
    "collapsed": true
   },
   "outputs": [],
   "source": [
    "# Function that returns list of bow for all movies in a given set(train/dev/test) of the given file root\n",
    "\n",
    "from collections import defaultdict\n",
    "\n",
    "def bow_movie(root,start,end):\n",
    "    bow_per_movie = [] # list of dict where each element of bow_per_movie is bow for that movie\n",
    "    review_list=[]\n",
    "    \n",
    "    for i in range(start,end):\n",
    "        bow = defaultdict(float)\n",
    "        string = \"\"\n",
    "        \n",
    "        for j in range(1,len(root[i])):\n",
    "            string += root[i][j].text\n",
    "\n",
    "        tokens =string.split()\n",
    "        l_tokens = map(lambda t: t.lower(), tokens)\n",
    "\n",
    "        for token in l_tokens:\n",
    "            bow[token] += 1.0\n",
    "        bow_per_movie.append(bow)\n",
    "        \n",
    "        review_list.append(string)\n",
    "    \n",
    "    return bow_per_movie,review_list\n"
   ]
  },
  {
   "cell_type": "code",
   "execution_count": 3,
   "metadata": {
    "collapsed": true
   },
   "outputs": [],
   "source": [
    "# Function that returns vocab for all movies in the training set of given file root\n",
    "def vocab(bow_per_movie):\n",
    "    stop_words=[\"a\",\"an\", \"and\",\"are\",\"as\",\"at\",\"be\",\"by\",\"for\",\"from\",\"has\",\"he\", \"in\",\"is\",\"it\",\"its\",\"of\",\"on\",\"that\",\"the\",\"to\",\"was\",\"were\",\"will\",\"with\"]\n",
    "    \n",
    "    vocab = defaultdict(float)\n",
    "    for bow in bow_per_movie:\n",
    "        for key,value in bow.iteritems():\n",
    "            vocab[key] += value\n",
    "            \n",
    "    ## removing words with frequency less than 5\n",
    "    for key,value in vocab.items():\n",
    "        if key in stop_words:\n",
    "            vocab.pop(key)\n",
    "    return vocab"
   ]
  },
  {
   "cell_type": "code",
   "execution_count": 4,
   "metadata": {
    "collapsed": true
   },
   "outputs": [],
   "source": [
    "from sklearn.linear_model import Ridge\n",
    "from sklearn import linear_model\n",
    "from sklearn.tree import DecisionTreeRegressor\n",
    "from sklearn.model_selection import GridSearchCV\n",
    "from sklearn.linear_model import ElasticNet\n",
    "import scipy\n",
    "import numpy as np\n",
    "\n",
    "def gsv(train_x,train_y):\n",
    "    #parameters = {'max_depth':[1, 1000]}\n",
    "    #clf = GridSearchCV(DecisionTreeRegressor(), parameters)\n",
    "    parameter={'alpha': [0.001,100]}\n",
    "    clf=GridSearchCV(Ridge(),parameters)\n",
    "    clf.fit(train_x, train_y)\n",
    "    return clf\n",
    "\n",
    "def train(train_x,train_y):\n",
    "    #clf=DecisionTreeRegressor(max_depth=10)\n",
    "    #clf = ElasticNet(alpha=1.0)\n",
    "    clf=Ridge(alpha=1)\n",
    "    clf.fit(train_x, train_y)\n",
    "    return clf\n",
    "\n",
    "def predict(clf, test_x): \n",
    "    return clf.predict(test_x)\n",
    "\n",
    "def cal_mae(y_hat,y):\n",
    "    return np.mean(abs(y_hat-y))\n"
   ]
  },
  {
   "cell_type": "code",
   "execution_count": 5,
   "metadata": {
    "collapsed": true
   },
   "outputs": [],
   "source": [
    "import xml.etree.ElementTree as ET\n",
    "tree = ET.parse('dataset\\\\movies-data-v1.0\\\\movies-data-v1.0\\\\7domains-train-dev.tl.xml')\n",
    "root_traindev_to = tree.getroot()"
   ]
  },
  {
   "cell_type": "code",
   "execution_count": 6,
   "metadata": {
    "collapsed": true
   },
   "outputs": [],
   "source": [
    "bow_per_movie_train_to, review_list_to = bow_movie(root_traindev_to,0,1147)\n",
    "#vocab_to=vocab(bow_per_movie_train_to)"
   ]
  },
  {
   "cell_type": "code",
   "execution_count": 7,
   "metadata": {},
   "outputs": [
    {
     "name": "stderr",
     "output_type": "stream",
     "text": [
      "C:\\Users\\Deeksha Razdan\\Anaconda2\\lib\\site-packages\\nltk\\twitter\\__init__.py:20: UserWarning: The twython library has not been installed. Some functionality from the twitter package will not be available.\n",
      "  warnings.warn(\"The twython library has not been installed. \"\n"
     ]
    }
   ],
   "source": [
    "from nltk.sentiment.vader import SentimentIntensityAnalyzer"
   ]
  },
  {
   "cell_type": "code",
   "execution_count": 8,
   "metadata": {
    "collapsed": true
   },
   "outputs": [],
   "source": [
    "sid = SentimentIntensityAnalyzer()\n",
    "review_polarity=[0]*len(review_list_to)\n",
    "i=0\n",
    "for review in review_list_to:\n",
    "    ss = sid.polarity_scores(review)\n",
    "    review_polarity[i]=ss['compound']\n",
    "    i+=1\n"
   ]
  },
  {
   "cell_type": "code",
   "execution_count": 9,
   "metadata": {
    "collapsed": true
   },
   "outputs": [],
   "source": [
    "from sklearn.neural_network import MLPRegressor\n",
    "def mpl(train_x,train_y,test_x):\n",
    "    clf = MLPRegressor(hidden_layer_sizes=(300,300,300,300,300),alpha=0.01)\n",
    "    clf.fit(train_x, train_y) \n",
    "    return clf.predict(test_x)"
   ]
  },
  {
   "cell_type": "code",
   "execution_count": 10,
   "metadata": {
    "collapsed": true
   },
   "outputs": [],
   "source": [
    "true_rev_train_to = true_rev(0,1147,root_traindev_to)"
   ]
  },
  {
   "cell_type": "code",
   "execution_count": 11,
   "metadata": {
    "collapsed": true
   },
   "outputs": [],
   "source": [
    "review_polarity=np.array(review_polarity).reshape(-1,1)\n",
    "true_rev_train_to=np.array(true_rev_train_to).reshape(-1,1)"
   ]
  },
  {
   "cell_type": "code",
   "execution_count": 15,
   "metadata": {
    "collapsed": true
   },
   "outputs": [],
   "source": [
    "import pickle\n",
    "f=open('train_y_ps.txt','r')\n",
    "true_rev_train_ps=pickle.load(f)"
   ]
  },
  {
   "cell_type": "code",
   "execution_count": 12,
   "metadata": {
    "collapsed": true
   },
   "outputs": [
    {
     "ename": "TypeError",
     "evalue": "mpl() takes exactly 3 arguments (2 given)",
     "output_type": "error",
     "traceback": [
      "\u001b[1;31m\u001b[0m",
      "\u001b[1;31mTypeError\u001b[0mTraceback (most recent call last)",
      "\u001b[1;32m<ipython-input-12-32cc9a565066>\u001b[0m in \u001b[0;36m<module>\u001b[1;34m()\u001b[0m\n\u001b[1;32m----> 1\u001b[1;33m \u001b[0mtrained_classifier\u001b[0m\u001b[1;33m=\u001b[0m\u001b[0mmpl\u001b[0m\u001b[1;33m(\u001b[0m\u001b[0mreview_polarity\u001b[0m\u001b[1;33m,\u001b[0m\u001b[0mtrue_rev_train_to\u001b[0m\u001b[1;33m)\u001b[0m\u001b[1;33m\u001b[0m\u001b[0m\n\u001b[0m",
      "\u001b[1;31mTypeError\u001b[0m: mpl() takes exactly 3 arguments (2 given)"
     ]
    }
   ],
   "source": [
    "trained_classifier=mpl(review_polarity,true_rev_train_to)"
   ]
  },
  {
   "cell_type": "code",
   "execution_count": 18,
   "metadata": {},
   "outputs": [
    {
     "name": "stderr",
     "output_type": "stream",
     "text": [
      "C:\\Users\\Deeksha Razdan\\Anaconda2\\lib\\site-packages\\sklearn\\neural_network\\multilayer_perceptron.py:1266: DataConversionWarning: A column-vector y was passed when a 1d array was expected. Please change the shape of y to (n_samples, ), for example using ravel().\n",
      "  y = column_or_1d(y, warn=True)\n"
     ]
    }
   ],
   "source": [
    "y_hat=mpl(review_polarity,true_rev_train_to,np.array(review_polarity_dev).reshape(-1,1))"
   ]
  },
  {
   "cell_type": "code",
   "execution_count": 19,
   "metadata": {},
   "outputs": [
    {
     "data": {
      "text/plain": [
       "10565521.853055386"
      ]
     },
     "execution_count": 19,
     "metadata": {},
     "output_type": "execute_result"
    }
   ],
   "source": [
    "cal_mae(y_hat,true_rev_dev_to)"
   ]
  },
  {
   "cell_type": "markdown",
   "metadata": {},
   "source": [
    "\n",
    "#  Predicting revenue in development set"
   ]
  },
  {
   "cell_type": "code",
   "execution_count": 13,
   "metadata": {
    "collapsed": true
   },
   "outputs": [],
   "source": [
    "bow_per_movie_dev_to, review_list_dev = bow_movie(root_traindev_to,1147,1464)\n",
    "true_rev_dev_to = true_rev(1147,1464,root_traindev_to)"
   ]
  },
  {
   "cell_type": "code",
   "execution_count": 16,
   "metadata": {
    "collapsed": true
   },
   "outputs": [],
   "source": [
    "f=open('dev_y_ps.txt','r')\n",
    "true_rev_dev_ps=pickle.load(f)"
   ]
  },
  {
   "cell_type": "code",
   "execution_count": 17,
   "metadata": {
    "collapsed": true
   },
   "outputs": [],
   "source": [
    "sid = SentimentIntensityAnalyzer()\n",
    "review_polarity_dev=[0]*len(review_list_dev)\n",
    "i=0\n",
    "\n",
    "## for each review (per movie) calculate the polarity\n",
    "for review in review_list_dev:\n",
    "    ss = sid.polarity_scores(review)\n",
    "    review_polarity_dev[i]=ss['compound']\n",
    "    i+=1\n",
    "  "
   ]
  },
  {
   "cell_type": "code",
   "execution_count": 35,
   "metadata": {},
   "outputs": [
    {
     "name": "stdout",
     "output_type": "stream",
     "text": [
      "The mean absolute error for dev set is  10652492.6587\n"
     ]
    }
   ],
   "source": [
    "#############################\n",
    "# insert prediction code here\n",
    "pred_rev_dev_to = predict(trained_classifier,np.array(review_polarity_dev).reshape(-1,1)) \n",
    "mae_rev_dev_to= cal_mae(pred_rev_dev_to,true_rev_dev_to)\n",
    "############################\n",
    "\n",
    "print \"The mean absolute error for dev set is \", mae_rev_dev_to"
   ]
  },
  {
   "cell_type": "code",
   "execution_count": null,
   "metadata": {
    "collapsed": true
   },
   "outputs": [],
   "source": []
  }
 ],
 "metadata": {
  "kernelspec": {
   "display_name": "Python 2",
   "language": "python",
   "name": "python2"
  },
  "language_info": {
   "codemirror_mode": {
    "name": "ipython",
    "version": 2
   },
   "file_extension": ".py",
   "mimetype": "text/x-python",
   "name": "python",
   "nbconvert_exporter": "python",
   "pygments_lexer": "ipython2",
   "version": "2.7.13"
  }
 },
 "nbformat": 4,
 "nbformat_minor": 2
}
