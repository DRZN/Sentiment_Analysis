{
 "cells": [
  {
   "cell_type": "code",
   "execution_count": 52,
   "metadata": {
    "collapsed": true
   },
   "outputs": [],
   "source": [
    "# Function that returns list of bow for all movies in a given set(train/dev/test) of the given file root\n",
    "\n",
    "from collections import defaultdict\n",
    "\n",
    "def bow_movie(root,start,end):\n",
    "    bow_per_movie = [] # list of dict where each element of bow_per_movie is bow for that movie\n",
    "    for i in range(start,end):\n",
    "        bow = defaultdict(float)\n",
    "        string = \"\"\n",
    "        for j in range(1,len(root[i])):\n",
    "            string += root[i][j].text\n",
    "\n",
    "        tokens =string.split()\n",
    "        l_tokens = map(lambda t: t.lower(), tokens)\n",
    "\n",
    "        for token in l_tokens:\n",
    "            bow[token] += 1.0\n",
    "        bow_per_movie.append(bow)\n",
    "    return bow_per_movie\n"
   ]
  },
  {
   "cell_type": "code",
   "execution_count": 88,
   "metadata": {
    "collapsed": true
   },
   "outputs": [],
   "source": [
    "# Function that returns vocab for all movies in the training set of given file root\n",
    "def vocab(bow_per_movie):\n",
    "    vocab = defaultdict(float)\n",
    "    \n",
    "    stop_words=[\"a\",\"an\", \"and\",\"are\",\"as\",\"at\",\"be\",\"by\",\"for\",\"from\",\"has\",\"he\", \"in\",\"is\",\"it\",\"its\",\"of\",\"on\",\"that\",\"the\",\"to\",\"was\",\"were\",\"will\",\"with\"]\n",
    "    \n",
    "    for bow in bow_per_movie:\n",
    "        for key,value in bow.iteritems():\n",
    "            vocab[key] += value\n",
    "            \n",
    "    ## removing stop words\n",
    "    #for key,value in vocab.items():\n",
    "    #    if key in stop_words:\n",
    "    #        vocab.pop(key)\n",
    "            \n",
    "    ## removing infrequent words with frequency less than 5\n",
    "    #for key,value in vocab.items():\n",
    "    #    if value<5:\n",
    "    #        vocab.pop(key)\n",
    "    \n",
    "    return vocab"
   ]
  },
  {
   "cell_type": "code",
   "execution_count": 55,
   "metadata": {
    "collapsed": true
   },
   "outputs": [],
   "source": [
    "# Function that returns feature vector for all movies in the given set(train/dev/test) of given file root\n",
    "def fvec(bow_per_movie,vocab):\n",
    "    fvec_per_movie = [] # list of lists where each element of fvec_per_movie is a feature vector for that movie\n",
    "\n",
    "    for bow in bow_per_movie:\n",
    "        fvec = []\n",
    "        for key,value in vocab.iteritems():\n",
    "            if key in bow:\n",
    "                fvec.append(value)\n",
    "            else:\n",
    "                fvec.append(0)\n",
    "\n",
    "        fvec_per_movie.append(fvec)\n",
    "    return fvec_per_movie"
   ]
  },
  {
   "cell_type": "code",
   "execution_count": 1,
   "metadata": {
    "collapsed": true
   },
   "outputs": [],
   "source": [
    "# Function that returns a list of target variables i.e. revenue for all movies in the given set(train/dev/test) of given file root\n",
    "def true_rev(start,end,root):\n",
    "    rev = []\n",
    "    for i in range(start,end):\n",
    "        rev.append(root[i][0].attrib['yvalue'])\n",
    "    rev=np.array(rev).astype(np.float)\n",
    "    return rev"
   ]
  },
  {
   "cell_type": "markdown",
   "metadata": {},
   "source": [
    "# Predicting revenue in training set"
   ]
  },
  {
   "cell_type": "code",
   "execution_count": 80,
   "metadata": {
    "collapsed": true
   },
   "outputs": [],
   "source": [
    "from sklearn.linear_model import Ridge\n",
    "from sklearn import linear_model\n",
    "from sklearn.tree import DecisionTreeRegressor\n",
    "from sklearn.model_selection import GridSearchCV\n",
    "import scipy\n",
    "import numpy as np\n",
    "\n",
    "def gsv(train_x,train_y):\n",
    "    parameters = {'max_depth':[10, 1000]}\n",
    "    clf = GridSearchCV(DecisionTreeRegressor(), parameters)\n",
    "    clf.fit(train_x, train_y)\n",
    "    return clf\n",
    "\n",
    "def train(train_x,train_y):\n",
    "    #clf = Ridge(alpha=0)\n",
    "    clf=linear_model.Lasso(alpha=0)\n",
    "    #clf=DecisionTreeRegressor(max_depth=10)\n",
    "    clf.fit(train_x, train_y)\n",
    "    return clf\n",
    "\n",
    "def predict(clf, test_x): \n",
    "    return clf.predict(test_x)\n",
    "\n",
    "def cal_mae(y_hat,y):\n",
    "    return np.mean(abs(y_hat-y))\n",
    "\n"
   ]
  },
  {
   "cell_type": "code",
   "execution_count": 2,
   "metadata": {
    "collapsed": true
   },
   "outputs": [],
   "source": [
    "import xml.etree.ElementTree as ET\n",
    "tree = ET.parse('dataset\\\\movies-data-v1.0\\\\movies-data-v1.0\\\\perscreen-7domains-train-dev.tl.xml')\n",
    "root_traindev_ps = tree.getroot()"
   ]
  },
  {
   "cell_type": "code",
   "execution_count": 4,
   "metadata": {},
   "outputs": [],
   "source": [
    "import numpy as np\n",
    "#bow_per_movie_train_ps = bow_movie(root_traindev_ps,0,1147)\n",
    "true_rev_train_ps = true_rev(0,1147,root_traindev_ps)"
   ]
  },
  {
   "cell_type": "code",
   "execution_count": 9,
   "metadata": {
    "collapsed": true
   },
   "outputs": [],
   "source": [
    "import pickle\n",
    "\n",
    "f = open('train_y_ps.txt', 'w')\n",
    "pickle.dump(true_rev_train_ps , f)\n",
    "f.close()\n"
   ]
  },
  {
   "cell_type": "code",
   "execution_count": 91,
   "metadata": {
    "collapsed": true
   },
   "outputs": [],
   "source": [
    "# only when changing vocab \n",
    "#####################################################################################3\n",
    "vocab_ps=vocab(bow_per_movie_train_ps)\n",
    "fvec_train_ps = fvec(bow_per_movie_train_ps,vocab_ps)"
   ]
  },
  {
   "cell_type": "code",
   "execution_count": 81,
   "metadata": {},
   "outputs": [
    {
     "name": "stderr",
     "output_type": "stream",
     "text": [
      "C:\\Users\\Deeksha Razdan\\Anaconda2\\lib\\site-packages\\ipykernel_launcher.py:18: UserWarning: With alpha=0, this algorithm does not converge well. You are advised to use the LinearRegression estimator\n"
     ]
    }
   ],
   "source": [
    "trained_classifier=train(fvec_train_ps,true_rev_train_ps)"
   ]
  },
  {
   "cell_type": "markdown",
   "metadata": {},
   "source": [
    "# Predicting revenue in development set"
   ]
  },
  {
   "cell_type": "code",
   "execution_count": 62,
   "metadata": {
    "collapsed": true
   },
   "outputs": [],
   "source": [
    "bow_per_movie_dev_ps = bow_movie(root_traindev_ps,1147,1464)"
   ]
  },
  {
   "cell_type": "code",
   "execution_count": 6,
   "metadata": {
    "collapsed": true
   },
   "outputs": [],
   "source": [
    "#fvec_dev_ps = fvec(bow_per_movie_dev_ps,vocab_ps)\n",
    "true_rev_dev_ps = true_rev(1147,1464,root_traindev_ps)"
   ]
  },
  {
   "cell_type": "code",
   "execution_count": 8,
   "metadata": {},
   "outputs": [],
   "source": [
    "import pickle\n",
    "\n",
    "f = open('dev_y_ps.txt', 'w')\n",
    "pickle.dump(true_rev_dev_ps, f)\n",
    "f.close()\n"
   ]
  },
  {
   "cell_type": "code",
   "execution_count": 82,
   "metadata": {},
   "outputs": [
    {
     "name": "stdout",
     "output_type": "stream",
     "text": [
      "The mean absolute error for dev set is  8987.11176824\n"
     ]
    }
   ],
   "source": [
    "#############################\n",
    "# insert prediction code here\n",
    "pred_rev_dev_ps = predict(trained_classifier,fvec_dev_ps) \n",
    "mae_rev_dev_ps= cal_mae(pred_rev_dev_ps,true_rev_dev_ps)\n",
    "############################\n",
    "\n",
    "print \"The mean absolute error for dev set is \", mae_rev_dev_ps"
   ]
  },
  {
   "cell_type": "markdown",
   "metadata": {},
   "source": [
    "# Predicting revenue in test set"
   ]
  },
  {
   "cell_type": "code",
   "execution_count": 45,
   "metadata": {
    "collapsed": true
   },
   "outputs": [],
   "source": [
    "import xml.etree.ElementTree as ET\n",
    "tree = ET.parse('dataset\\\\movies-data-v1.0\\\\movies-data-v1.0\\\\perscreen-7domains-train-test.tl.xml')\n",
    "root_traintest_ps = tree.getroot()"
   ]
  },
  {
   "cell_type": "code",
   "execution_count": 46,
   "metadata": {
    "collapsed": true
   },
   "outputs": [],
   "source": [
    "bow_per_movie_test_ps = bow_movie(root_traintest_ps,1147,1401)\n",
    "fvec_test_ps = fvec(bow_per_movie_test_ps,vocab_ps)\n",
    "true_rev_test_ps = true_rev(1147,1401,root_traintest_ps)\n",
    "#########################\n",
    "# insert prediction code here\n",
    "# pred_rev_test_ps =\n",
    "#########################"
   ]
  },
  {
   "cell_type": "code",
   "execution_count": null,
   "metadata": {
    "collapsed": true
   },
   "outputs": [],
   "source": []
  }
 ],
 "metadata": {
  "kernelspec": {
   "display_name": "Python 2",
   "language": "python",
   "name": "python2"
  },
  "language_info": {
   "codemirror_mode": {
    "name": "ipython",
    "version": 2
   },
   "file_extension": ".py",
   "mimetype": "text/x-python",
   "name": "python",
   "nbconvert_exporter": "python",
   "pygments_lexer": "ipython2",
   "version": "2.7.13"
  }
 },
 "nbformat": 4,
 "nbformat_minor": 2
}
