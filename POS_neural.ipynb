{
 "cells": [
  {
   "cell_type": "code",
   "execution_count": 74,
   "metadata": {
    "collapsed": true
   },
   "outputs": [],
   "source": [
    "from sklearn.neural_network import MLPRegressor\n",
    "from sklearn.linear_model import Ridge\n",
    "from sklearn.tree import DecisionTreeRegressor\n",
    "import scipy\n",
    "import numpy as np\n",
    "\n",
    "def mpl(train_x,train_y,test_x):\n",
    "    clf = MLPRegressor(hidden_layer_sizes=(300,300,300,300,300),alpha=0.01)\n",
    "    clf.fit(train_x, train_y) \n",
    "    return clf.predict(test_x)\n",
    "\n",
    "def decision(train_x,train_y,test_x):\n",
    "    clf = DecisionTreeRegressor(max_depth=10)\n",
    "    clf.fit(train_x, train_y) \n",
    "    return clf.predict(test_x)\n",
    "\n",
    "def linear(train_x,train_y,test_x):\n",
    "    clf=Ridge()\n",
    "    clf.fit(train_x, train_y)\n",
    "    return clf.predict(test_x)\n",
    "\n",
    "def cal_mae(y_hat,y):\n",
    "    return np.mean(abs(y_hat-y))"
   ]
  },
  {
   "cell_type": "code",
   "execution_count": 86,
   "metadata": {
    "collapsed": true
   },
   "outputs": [],
   "source": [
    "import pickle\n",
    "\n",
    "f=open('train_posneg_feat.txt', 'r')\n",
    "train_x=pickle.load(f)\n",
    "\n",
    "f=open('train_y_ps.txt', 'r')\n",
    "train_y= pickle.load(f)"
   ]
  },
  {
   "cell_type": "code",
   "execution_count": 65,
   "metadata": {
    "collapsed": true
   },
   "outputs": [],
   "source": [
    "for i in range(len(test_x)):\n",
    "    test_x[i]=test_x[i][0]"
   ]
  },
  {
   "cell_type": "code",
   "execution_count": 87,
   "metadata": {
    "collapsed": true
   },
   "outputs": [],
   "source": [
    "f=open('dev_posneg_feat.txt', 'r')\n",
    "test_x=pickle.load(f)\n",
    "\n",
    "f=open('dev_y_ps.txt', 'r')\n",
    "test_y= pickle.load(f)"
   ]
  },
  {
   "cell_type": "code",
   "execution_count": 88,
   "metadata": {},
   "outputs": [
    {
     "name": "stdout",
     "output_type": "stream",
     "text": [
      "MAE is  7866.69721753\n"
     ]
    }
   ],
   "source": [
    "y_hat=linear(train_x,train_y,test_x)\n",
    "print \"MAE is \", cal_mae(test_y, y_hat)"
   ]
  },
  {
   "cell_type": "code",
   "execution_count": 72,
   "metadata": {
    "collapsed": true
   },
   "outputs": [],
   "source": [
    "f.close()"
   ]
  },
  {
   "cell_type": "code",
   "execution_count": null,
   "metadata": {
    "collapsed": true
   },
   "outputs": [],
   "source": []
  },
  {
   "cell_type": "code",
   "execution_count": null,
   "metadata": {
    "collapsed": true
   },
   "outputs": [],
   "source": []
  }
 ],
 "metadata": {
  "kernelspec": {
   "display_name": "Python 2",
   "language": "python",
   "name": "python2"
  },
  "language_info": {
   "codemirror_mode": {
    "name": "ipython",
    "version": 2
   },
   "file_extension": ".py",
   "mimetype": "text/x-python",
   "name": "python",
   "nbconvert_exporter": "python",
   "pygments_lexer": "ipython2",
   "version": "2.7.13"
  }
 },
 "nbformat": 4,
 "nbformat_minor": 2
}
